{
  "nbformat": 4,
  "nbformat_minor": 0,
  "metadata": {
    "colab": {
      "name": "SFM_GPU_Version.ipynb",
      "provenance": [],
      "collapsed_sections": [],
      "machine_shape": "hm"
    },
    "kernelspec": {
      "name": "python3",
      "display_name": "Python 3"
    },
    "accelerator": "GPU"
  },
  "cells": [
    {
      "cell_type": "markdown",
      "metadata": {
        "id": "-PZyUtc7nUhZ",
        "colab_type": "text"
      },
      "source": [
        "# **Project Code - Parallel Structure for Motion (SFM)**\n",
        "\n",
        "### **Project by: Anirudh Kulkarni, Anand Ravi, Siddhant Nadkarni**\n",
        "\n",
        "Below are Instructions to run each cell\n",
        "\n"
      ]
    },
    {
      "cell_type": "markdown",
      "metadata": {
        "id": "r536Vq2ispq3",
        "colab_type": "text"
      },
      "source": [
        "### **The first step is to Mount the drive**"
      ]
    },
    {
      "cell_type": "code",
      "metadata": {
        "id": "VJrwloJqymzm",
        "colab_type": "code",
        "outputId": "52d84df9-6cbb-47ac-9504-87c4730a6c12",
        "colab": {
          "base_uri": "https://localhost:8080/",
          "height": 34
        }
      },
      "source": [
        "from google.colab import drive \n",
        "drive.mount('/content/drive', force_remount=True)"
      ],
      "execution_count": 41,
      "outputs": [
        {
          "output_type": "stream",
          "text": [
            "Mounted at /content/drive\n"
          ],
          "name": "stdout"
        }
      ]
    },
    {
      "cell_type": "markdown",
      "metadata": {
        "id": "fWQhtZcUs6bo",
        "colab_type": "text"
      },
      "source": [
        "### **Pip Install OpenCV Version 3.4**"
      ]
    },
    {
      "cell_type": "code",
      "metadata": {
        "id": "F_6Rxi4IyoZG",
        "colab_type": "code",
        "outputId": "c69b1535-b9a4-4390-90a7-9631cd50824f",
        "colab": {
          "base_uri": "https://localhost:8080/",
          "height": 51
        }
      },
      "source": [
        "!pip install opencv-contrib-python==3.4.2.16"
      ],
      "execution_count": 42,
      "outputs": [
        {
          "output_type": "stream",
          "text": [
            "Requirement already satisfied: opencv-contrib-python==3.4.2.16 in /usr/local/lib/python3.6/dist-packages (3.4.2.16)\n",
            "Requirement already satisfied: numpy>=1.11.3 in /usr/local/lib/python3.6/dist-packages (from opencv-contrib-python==3.4.2.16) (1.17.4)\n"
          ],
          "name": "stdout"
        }
      ]
    },
    {
      "cell_type": "markdown",
      "metadata": {
        "id": "yCAwgx4MtAYd",
        "colab_type": "text"
      },
      "source": [
        "### **Pip Install PyCUDa**"
      ]
    },
    {
      "cell_type": "code",
      "metadata": {
        "id": "EwcrKSaxo6lx",
        "colab_type": "code",
        "outputId": "198d4a1f-ca53-406f-b9f3-ae650d3de157",
        "colab": {
          "base_uri": "https://localhost:8080/",
          "height": 153
        }
      },
      "source": [
        "!pip install pycuda"
      ],
      "execution_count": 43,
      "outputs": [
        {
          "output_type": "stream",
          "text": [
            "Requirement already satisfied: pycuda in /usr/local/lib/python3.6/dist-packages (2019.1.2)\n",
            "Requirement already satisfied: decorator>=3.2.0 in /usr/local/lib/python3.6/dist-packages (from pycuda) (4.4.1)\n",
            "Requirement already satisfied: appdirs>=1.4.0 in /usr/local/lib/python3.6/dist-packages (from pycuda) (1.4.3)\n",
            "Requirement already satisfied: mako in /usr/local/lib/python3.6/dist-packages (from pycuda) (1.1.0)\n",
            "Requirement already satisfied: pytools>=2011.2 in /usr/local/lib/python3.6/dist-packages (from pycuda) (2019.1.1)\n",
            "Requirement already satisfied: MarkupSafe>=0.9.2 in /usr/local/lib/python3.6/dist-packages (from mako->pycuda) (1.1.1)\n",
            "Requirement already satisfied: six>=1.8.0 in /usr/local/lib/python3.6/dist-packages (from pytools>=2011.2->pycuda) (1.12.0)\n",
            "Requirement already satisfied: numpy>=1.6.0 in /usr/local/lib/python3.6/dist-packages (from pytools>=2011.2->pycuda) (1.17.4)\n"
          ],
          "name": "stdout"
        }
      ]
    },
    {
      "cell_type": "markdown",
      "metadata": {
        "id": "yGvogOeUtFdO",
        "colab_type": "text"
      },
      "source": [
        "### **Import all required libraries**"
      ]
    },
    {
      "cell_type": "code",
      "metadata": {
        "id": "hD5-C1i5yvth",
        "colab_type": "code",
        "colab": {}
      },
      "source": [
        "import os\n",
        "import cv2\n",
        "import numpy as np\n",
        "from glob import glob\n",
        "from os.path import join\n",
        "import time\n",
        "import math\n",
        "import operator\n",
        "\n",
        "import pycuda.autoinit\n",
        "import pycuda.driver as cuda\n",
        "import numpy\n",
        "from pycuda.compiler import SourceModule"
      ],
      "execution_count": 0,
      "outputs": []
    },
    {
      "cell_type": "markdown",
      "metadata": {
        "id": "phfV_yy3tJP7",
        "colab_type": "text"
      },
      "source": [
        "### **CUDA Kernel to be run via PyCUDA on GPU**"
      ]
    },
    {
      "cell_type": "code",
      "metadata": {
        "id": "4i24xqdqznda",
        "colab_type": "code",
        "colab": {}
      },
      "source": [
        "mod1 = SourceModule(\"\"\"\n",
        "#include<stdio.h>\n",
        "__global__ void euclidean_distance(float* des1, float* des2, float* result, int* size_des1, int* size_des2, int* iteration, float* sorted)\n",
        "{\n",
        "const int id = threadIdx.x;\n",
        "//printf(\"threadIdx is %d\",id);\n",
        "int iterations = iteration[0];\n",
        "int shape2 = size_des2[0];\n",
        "int shape1 = size_des1[0];\n",
        "\n",
        "//printf(\"Iteration is %d\",iterations);\n",
        "//printf(\"Shape 1 is %d\",shape1);\n",
        "//printf(\"Shape 2 is %d\",shape2);\n",
        "\n",
        "for(int i = 0; i < iterations; i++)\n",
        "{\n",
        "    for(int j = 0;j < shape2; j++)\n",
        "    {\n",
        "    \t\n",
        "        //result[id] = 500;\n",
        "        float local_temp = 0;\n",
        "        for(int k = 0; k < 128; k++)\n",
        "        {\n",
        "        \t//printf(\"Des1 is %d\",des1[(id)*128 + k]);\n",
        "            local_temp = local_temp + pow((double)(des1[(id + i * 1024)*128 + k] - des2[j * 128 + k]),2);\n",
        "            //local_temp = local_temp + 1;\n",
        "        }\n",
        "        \n",
        "      result[((id + i*1024) * shape2) + j] = pow((double)local_temp,0.5) ;\n",
        "    }\n",
        "}\n",
        "\n",
        "//Sorting Code\n",
        "for (int i = 0; i < iterations; i++){\n",
        "  float local_min[4] = {0,9000000000.0,0,900000000.0};\n",
        "    for(int j = 0; j < shape2; j++){\n",
        "      if (result[(id +(i*1024))*shape2 + j] < local_min[1]){\n",
        "        local_min[1] = result[(id +(i*1024))*shape2 + j];\n",
        "        local_min[0] =  j;\n",
        "        continue;\n",
        "      }\n",
        "      if (result[(id +(i*1024))*shape2 + j] < local_min[3]){\n",
        "        local_min[3] = result[(id +(i*1024))*shape2 + j];\n",
        "        local_min[2] =  j;\n",
        "        continue;\n",
        "      }\n",
        "    }\n",
        "    if (local_min[1] > local_min[3]){\n",
        "      sorted[((id + (i*1024)) * 4 + 0)] = local_min[2];\n",
        "      sorted[((id + (i*1024))*4 + 1)] = local_min[3];\n",
        "      sorted[((id + (i*1024))*4 + 2)] = local_min[0];\n",
        "      sorted[((id + (i*1024))*4 + 3)] = local_min[1];\n",
        "    }\n",
        "    else{\n",
        "      sorted[((id + (i*1024)) * 4 + 0)] = local_min[0];\n",
        "      sorted[((id + (i*1024)) * 4 + 1)] = local_min[1];\n",
        "      sorted[((id + (i*1024)) * 4 + 2)] = local_min[2];\n",
        "      sorted[((id + (i*1024)) * 4 + 3)] = local_min[3];\n",
        "    }\n",
        "    \n",
        "}\n",
        "\n",
        "}\n",
        "\"\"\")\n",
        "\n"
      ],
      "execution_count": 0,
      "outputs": []
    },
    {
      "cell_type": "markdown",
      "metadata": {
        "id": "RB-em1TKtcX7",
        "colab_type": "text"
      },
      "source": [
        "### **Main Class of Structure For Motion Solver**\n",
        "This class has methods to load Images, Visualize Images, Detect and match features, computing Essential Matrix, triangulating points and writing object finals. The object file can be visualized in Meshlab. The run method will execute the SFM pipeline. "
      ]
    },
    {
      "cell_type": "code",
      "metadata": {
        "id": "ljubJm3b1-b1",
        "colab_type": "code",
        "colab": {}
      },
      "source": [
        "class SFMSolver(object):\n",
        "\n",
        "    def __init__(self, img_pattern, intrinsic, output_dir, downscale=1):\n",
        "        \"\"\"\n",
        "        img_pattern: regex pattern used by glob to read the files\n",
        "        instrinsic:\n",
        "        \"\"\"\n",
        "        self.img_pattern = img_pattern\n",
        "        self.K_orig = self.intrinsic_orig = intrinsic.copy()\n",
        "        self.output_dir = output_dir\n",
        "        self.downscale = downscale\n",
        "        self.rescale_intrinsic()\n",
        "\n",
        "    def rescale_intrinsic(self):\n",
        "        \"\"\"\n",
        "        if we downscale the image, the intrinsic matrix\n",
        "        also needs to be changed.\n",
        "        \"\"\"\n",
        "        start = time.time()\n",
        "        # scale focal length and principal points wrt image resizeing\n",
        "        if self.downscale > 1:\n",
        "            self.K = self.K_orig.copy()\n",
        "            self.K[0, 0] /= float(self.downscale)\n",
        "            self.K[1, 1] /= float(self.downscale)\n",
        "            self.K[0, 2] /= float(self.downscale)\n",
        "            self.K[1, 2] /= float(self.downscale)\n",
        "            self.intrinsic = self.K\n",
        "        else:\n",
        "            self.K = self.intrinsic = self.K_orig.copy()\n",
        "        elapsed = time.time() - start\n",
        "              \n",
        "    def load_images(self):\n",
        "        \"\"\"\n",
        "        Loads a set of images to self.imgs list\n",
        "        \"\"\"\n",
        "        start = time.time()\n",
        "        self.img_paths = sorted(glob(self.img_pattern))\n",
        "        self.imgs = []\n",
        "        for idx, this_path in enumerate(self.img_paths):\n",
        "            try:\n",
        "                this_img = cv2.imread(this_path)\n",
        "                if self.downscale > 1:\n",
        "                    this_img = cv2.resize(this_img, (0, 0),\n",
        "                                          fx=1/float(self.downscale),\n",
        "                                          fy=1/float(self.downscale),\n",
        "                                          interpolation=cv2.INTER_LINEAR)\n",
        "            except Exception as e:\n",
        "                print(\"error loading img: %s\" % (this_path))\n",
        "            if this_img is not None:\n",
        "                self.imgs.append(this_img)\n",
        "                print(\"loaded img %d size=(%d,%d): %s\" %\n",
        "                      (idx, this_img.shape[0], this_img.shape[1], this_path))\n",
        "        elapsed = time.time() - start\n",
        "\n",
        "    def visualize_matches(self, img1, img2,\n",
        "                          kp1, kp2, good,\n",
        "                          mask=None, save_path=None):\n",
        "        start = time.time()\n",
        "        draw_params = dict(matchColor=(0, 255, 0),  # draw matches in green color\n",
        "                           singlePointColor=None,\n",
        "                           flags=2)\n",
        "        if mask is not None:\n",
        "            if not isinstance(mask, list):\n",
        "                matchesMask = mask.ravel().tolist()\n",
        "            else:\n",
        "                matchesMask = mask\n",
        "            draw_params['matchesMask'] = matchesMask\n",
        "        img_matches = cv2.drawMatches(\n",
        "            img1, kp1, img2, kp2, good, None, **draw_params)\n",
        "        cv2.imwrite(save_path, img_matches)\n",
        "        elapsed = time.time() - start\n",
        "\n",
        "    def drawlines(self, img1, img2, lines, pts1, pts2, line_num=None):\n",
        "        \"\"\"\n",
        "        Draw line connecting points in two images.\n",
        "        \"\"\"\n",
        "        start = time.time()\n",
        "        if img1.ndim == 2:\n",
        "            img1 = cv2.cvtColor(img1, cv2.COLOR_GRAY2BGR)\n",
        "            img2 = cv2.cvtColor(img2, cv2.COLOR_GRAY2BGR)\n",
        "            r, c = img1.shape\n",
        "        else:  # 3\n",
        "            r, c, _ = img1.shape\n",
        "        if line_num is not None:\n",
        "            draw_list = np.random.choice(\n",
        "                pts1.shape[0], line_num, replace=False)\n",
        "        else:\n",
        "            draw_list = np.arange(pts1.shape[0])\n",
        "        for idx, (r, pt1, pt2) in enumerate(zip(lines, pts1, pts2)):\n",
        "            if idx not in list(draw_list):\n",
        "                continue\n",
        "            color = tuple(np.random.randint(0, 255, 3).tolist())\n",
        "            x0, y0 = map(int, [0, -r[2]/r[1]])\n",
        "            x1, y1 = map(int, [c, -(r[2]+r[0]*c)/r[1]])\n",
        "            img1 = cv2.line(img1, (x0, y0), (x1, y1), color, 1)\n",
        "            img1 = cv2.circle(img1, tuple(pt1.ravel()), 5, color, -1)\n",
        "            img2 = cv2.circle(img2, tuple(pt2.ravel()), 5, color, -1)\n",
        "        elapsed = time.time() - start\n",
        "        return img1, img2\n",
        "\n",
        "    def visualize_epipolar_lines(self, img1, img2, p1, p2, E, save_path):\n",
        "        start = time.time()\n",
        "        # get fundamental matrix\n",
        "        F, mask_fdm = cv2.findFundamentalMat(p1, p2, cv2.RANSAC)\n",
        "        p1_selected = p1[mask_fdm.ravel() == 1]\n",
        "        p2_selected = p2[mask_fdm.ravel() == 1]\n",
        "\n",
        "        # draw lines\n",
        "        lines1 = cv2.computeCorrespondEpilines(\n",
        "            p2_selected.reshape(-1, 1, 2), 2, F).reshape(-1, 3)\n",
        "        img5, _ = self.drawlines(\n",
        "            img1, img2, lines1, p1_selected, p2_selected, 100)\n",
        "\n",
        "        lines2 = cv2.computeCorrespondEpilines(\n",
        "            p1_selected.reshape(-1, 1, 2), 1, F).reshape(-1, 3)\n",
        "        img3, _ = self.drawlines(\n",
        "            img2, img1, lines2, p2_selected, p1_selected, 100)\n",
        "        canvas = np.concatenate((img5, img3), axis=1)\n",
        "        cv2.imwrite(save_path, canvas)\n",
        "        elapsed = time.time() - start\n",
        "\n",
        "\n",
        "    def write_simple_obj(self, mesh_v, mesh_f, filepath, verbose=False):\n",
        "        \"\"\"\n",
        "        Saves 3d points which can be read in meshlab\n",
        "        \"\"\"\n",
        "        start = time.time()\n",
        "        with open(filepath, 'w') as fp:\n",
        "            for v in mesh_v:\n",
        "                fp.write('v %f %f %f\\n' % (v[0], v[1], v[2]))\n",
        "            if mesh_f is not None:\n",
        "                for f in mesh_f+1:  # Faces are 1-based, not 0-based in obj files\n",
        "                    fp.write('f %d %d %d\\n' % (f[0], f[1], f[2]))\n",
        "        if verbose:\n",
        "            print('mesh saved to: ', filepath)\n",
        "        elapsed = time.time() - start \n",
        "\n",
        "        \n",
        "    def detect_and_match_feature(self, img1, img2):\n",
        "        start = time.time()\n",
        "        sift = cv2.xfeatures2d.SIFT_create() # Create SIFT object\n",
        "        kp1,des1 = sift.detectAndCompute(img1,None) # Detect keypoints and find descriptiors of first image\n",
        "        elapsed1 = time.time() - start\n",
        "        start1 = time.time()\n",
        "        kp2,des2 = sift.detectAndCompute(img2,None) # Detect keypoints and find descriptiors of second image\n",
        "        t = time.time()\n",
        "        matches = []\n",
        "        euclidean_distance = mod1.get_function(\"euclidean_distance\")\n",
        "        des1 = np.ravel(des1).astype(np.float32)\n",
        "        des2 = np.ravel(des2).astype(np.float32)\n",
        "        result = np.ravel(numpy.zeros(int(des1.shape[0]/128)*int(des2.shape[0]/128))).astype(np.float32)\n",
        "        shape1 = np.array([des1.shape[0]/128],dtype = np.int32)\n",
        "        shape2 = np.array([des2.shape[0]/128],dtype = np.int32)\n",
        "        iterations = np.array([des1.shape[0]/(1024*128)],dtype = np.int32) \n",
        "        sorted1 = np.ravel(numpy.zeros(int(des1.shape[0]/128)*4)).astype(np.float32)\n",
        "        start4 = time.time()\n",
        "        euclidean_distance(cuda.In(des1), cuda.In(des2), cuda.Out(result), cuda.In(shape1), cuda.In(shape2), cuda.In(iterations) , cuda.Out(sorted1) ,block=(1024,1,1), grid=(1,1))\n",
        "        result = result.reshape(int(des1.shape[0]/128),int(des2.shape[0]/128))\n",
        "        sorted1 = sorted1.reshape(int(des1.shape[0]/128),4)\n",
        "        \n",
        "        for i in range(len(sorted1)):\n",
        "          matches.append([cv2.DMatch(i, sorted1[i][0], sorted1[i][1]), cv2.DMatch(i, sorted1[i][2], sorted1[i][3])])\n",
        "\n",
        "        \n",
        "        start2 = time.time()\n",
        "        elapsed2 = time.time() - start4\n",
        "        print('Time elapsed (in seconds) for descriptor matching: {} '.format(elapsed2))\n",
        "        matches_good = []\n",
        "        start3 = time.time()\n",
        "        for m, n in matches:\n",
        "            if m.distance < 0.7 * n.distance: # Perform ratio test to select good feature matches. Here 0.7 is the threshold. Can change between 0.5 - 1\n",
        "                matches_good.append(m)\n",
        "        elapsed3 = time.time() - start3\n",
        "        \n",
        "        p1 = np.float32([kp1[m.queryIdx].pt for m in matches_good]).reshape(-1,1,2) # Find those keypoints with descriptors that pass ratio test\n",
        "        p2 = np.float32([kp2[m.trainIdx].pt for m in matches_good]).reshape(-1,1,2) # Find those keypoints with descriptors that pass ratio test\n",
        "        elapsed = time.time() - start\n",
        "        return p1, p2, matches_good, kp1, kp2\n",
        "\n",
        "    def compute_essential(self, p1, p2):\n",
        "        start = time.time()\n",
        "        E, mask = cv2.findEssentialMat(p1, p2, self.intrinsic) # Find essential matrix\n",
        "        elapsed = time.time() - start\n",
        "        return E, mask\n",
        "\n",
        "    def compute_pose(self, p1, p2, E):\n",
        "        start = time.time()\n",
        "        retval, R, trans, mask = cv2.recoverPose(E, p1, p2, self.intrinsic)\n",
        "        elapsed = time.time() - start\n",
        "        return R, trans\n",
        "\n",
        "    def triangulate(self, p1, p2, R, trans, mask):\n",
        "        start = time.time()\n",
        "        matchesMask = mask.ravel().tolist() # Use mask to remove outliers\n",
        "        p1 = p1[np.asarray(matchesMask)==1,:,:]\n",
        "        p2 = p2[np.asarray(matchesMask)==1,:,:]\n",
        "\n",
        "        P1 = cv2.undistortPoints(p1, self.intrinsic,None) # Convert image coordinates to normalized coordinates for first image\n",
        "        P2 = cv2.undistortPoints(p2, self.intrinsic,None) # Convert image coordinates to normalized coordinates for second image\n",
        "\n",
        "        I = np.identity(3) # Rotation of first camera. Identity as origin is at first camera\n",
        "        z = np.zeros((3,1)) #  Translation of first camera. Zero as origin is at first camera\n",
        "\n",
        "        projMatr1 = np.concatenate((I,z),axis=1) # Calculate matrix of extrinsic parameters ([R t]) of first camera\n",
        "        #print(\"Projection matrix ([R t]) of first camera is: \") \n",
        "        #print(projMatr1)\n",
        "\n",
        "        projMatr2 = np.concatenate((R,trans),axis=1) # Calculate matrix of extrinsic parameters ([R t]) of second camera\n",
        "        #print(\"Projection matrix ([R t]) of second camera is: \")\n",
        "        #print(projMatr2)\n",
        "\n",
        "        #print(\"Camera matrix (K*[R t]) of first camera is: \") # Camera matrix (K*[R t]) of first camera\n",
        "        #print(self.intrinsic@projMatr1)\n",
        "\n",
        "        #print(\"Camera matrix (K*[R t]) of second camera is: \") # Camera matrix (K*[R t]) of second camera\n",
        "        #print(self.intrinsic@projMatr2)\n",
        "\n",
        "        points_4d_hom = cv2.triangulatePoints(projMatr1, projMatr2, P1, P2) # Homogeneous coordinates \n",
        "        points_4d = points_4d_hom / np.tile(points_4d_hom[-1,:],(4,1)) # divide by fourth coordinate to get 3D points\n",
        "        points_3d = points_4d[:3,:].T # Take first three coordinates (3D points)\n",
        "        elapsed = time.time() - start\n",
        "        return points_3d\n",
        "\n",
        "    def run(self):\n",
        "\n",
        "        self.load_images()\n",
        "\n",
        "        # step 1 and 2: detect and match feature\n",
        "        p1, p2, matches_good, kp1, kp2 = self.detect_and_match_feature(\n",
        "            self.imgs[1], self.imgs[2])\n",
        "\n",
        "        self.visualize_matches(\n",
        "            self.imgs[1], self.imgs[2], kp1, kp2, matches_good,\n",
        "            save_path=join(self.output_dir, 'sift_match_01_7.png'))\n",
        "\n",
        "        # step 3: compute essential matrix\n",
        "        E, mask = self.compute_essential(p1, p2)\n",
        "\n",
        "        self.visualize_matches(\n",
        "            self.imgs[1], self.imgs[2], kp1, kp2, matches_good, mask=mask,\n",
        "            save_path=join(self.output_dir, 'inlier_match_01_7.png'))\n",
        "\n",
        "        self.visualize_epipolar_lines(\n",
        "            self.imgs[1], self.imgs[2], p1, p2, E,\n",
        "            save_path=join(self.output_dir, 'epipolar_lines_01_7.png')) \n",
        "\n",
        "        # step 4: recover pose\n",
        "        R, trans = self.compute_pose(p1, p2, E)\n",
        "        # step 5: triangulation\n",
        "        point_3d = self.triangulate(p1, p2, R, trans, mask)\n",
        "        self.write_simple_obj(point_3d, None, filepath=join(\n",
        "            self.output_dir, 'output_01_7.obj')) # Output file to see point cloud in Meshlab. First two numbers (01) signify set of images used. Third number (7) gives threshold (here 0.7)\n",
        "\n",
        "def safe_mkdir(file_dir):\n",
        "    if not os.path.exists(file_dir):\n",
        "        os.mkdir(file_dir)\n",
        "\n",
        "def intrinsic_reader(txt_file):\n",
        "    with open(txt_file) as f:\n",
        "        lines = f.readlines()\n",
        "    return np.array(\n",
        "        [l.strip().split(' ') for l in lines],\n",
        "        dtype=np.float32\n",
        "    )"
      ],
      "execution_count": 0,
      "outputs": []
    },
    {
      "cell_type": "markdown",
      "metadata": {
        "id": "iHOscL1_uYmk",
        "colab_type": "text"
      },
      "source": [
        "### **Main method which will load all input image and output obj file paths**\n",
        "Time taken for Descriptor matching will be printed below. \n",
        "<br>\n",
        "The output will be saved as \"output_01_7.obj\" in the \"data/Output\" folder which can be viewed using Meshlab\n",
        "\n",
        "For the data set accompanying this git repo: <br>\n",
        "For folder2: <br>\n",
        "img_pattern = '/data/folder2/*.jpg'*\n",
        "intrinsic = intrinsic_reader('./data/folder2/intrinsics.txt')"
      ]
    },
    {
      "cell_type": "code",
      "metadata": {
        "id": "Liq6BLjyq_Dt",
        "colab_type": "code",
        "outputId": "312e6497-f3e1-469d-864e-2f44d214219d",
        "colab": {
          "base_uri": "https://localhost:8080/",
          "height": 85
        }
      },
      "source": [
        "def main():\n",
        "\n",
        "    img_pattern = 'drive/My Drive/data/folder1/*.ppm' \n",
        "    intrinsic = intrinsic_reader('drive/My Drive/data/folder1/intrinsics.txt') # Retrieve intrinsic parameters\n",
        "    output_dir = 'drive/My Drive/data/Output' # Folder to save output results\n",
        "    safe_mkdir(output_dir)\n",
        "\n",
        "    sfm_solver = SFMSolver(img_pattern, intrinsic, output_dir, downscale=2)\n",
        "    sfm_solver.run()\n",
        "\n",
        "if __name__ == '__main__':\n",
        "    main()"
      ],
      "execution_count": 47,
      "outputs": [
        {
          "output_type": "stream",
          "text": [
            "loaded img 0 size=(1024,1536): drive/My Drive/data/folder1/rdimage.000.ppm\n",
            "loaded img 1 size=(1024,1536): drive/My Drive/data/folder1/rdimage.001.ppm\n",
            "loaded img 2 size=(1024,1536): drive/My Drive/data/folder1/rdimage.002.ppm\n",
            "Time elapsed (in seconds) for descriptor matching: 37.260677099227905 \n"
          ],
          "name": "stdout"
        }
      ]
    }
  ]
}